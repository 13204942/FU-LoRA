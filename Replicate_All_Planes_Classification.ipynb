{
  "cells": [
    {
      "cell_type": "code",
      "execution_count": 1,
      "metadata": {
        "id": "oYkvlzQkjCuq"
      },
      "outputs": [],
      "source": [
        "root_path = '/mnt/storage/fangyijie/fetal_us_planes/'\n",
        "model_dir = '/mnt/storage/fangyijie/fetal_us_planes/0310_saved_models/'\n",
        "# spain_train_1150_balanced.csv\n",
        "# spain_train_5500_random_select.csv\n",
        "all_sp_train = 'all_train_no_cer.csv'\n",
        "sp_train_file = 'spain_train_1150_balanced.csv'\n",
        "syn_train_file = 'synthetic_train_5000.csv'\n",
        "af_train_file = 'African_train.csv'\n",
        "ot_train_file = 'spain_other_train.csv'\n",
        "test_file = 'African_test.csv'"
      ]
    },
    {
      "cell_type": "markdown",
      "metadata": {
        "id": "1JVsUmLXj-Yo"
      },
      "source": [
        "### Load Target Labels"
      ]
    },
    {
      "cell_type": "code",
      "execution_count": 2,
      "metadata": {
        "id": "wRmWou5BkIC-"
      },
      "outputs": [],
      "source": [
        "import pandas as pd"
      ]
    },
    {
      "cell_type": "code",
      "execution_count": 3,
      "metadata": {},
      "outputs": [],
      "source": [
        "AF_TRAIN = False\n",
        "HAS_AF = False\n",
        "HAS_OTHER = False\n",
        "ALL_TRAIN = True"
      ]
    },
    {
      "cell_type": "code",
      "execution_count": 4,
      "metadata": {
        "colab": {
          "base_uri": "https://localhost:8080/",
          "height": 206
        },
        "id": "9Ojlv1IYkDBd",
        "outputId": "e0cd5ac6-3d39-4085-9ac6-d16e8353b595"
      },
      "outputs": [
        {
          "data": {
            "text/html": [
              "<div>\n",
              "<style scoped>\n",
              "    .dataframe tbody tr th:only-of-type {\n",
              "        vertical-align: middle;\n",
              "    }\n",
              "\n",
              "    .dataframe tbody tr th {\n",
              "        vertical-align: top;\n",
              "    }\n",
              "\n",
              "    .dataframe thead th {\n",
              "        text-align: right;\n",
              "    }\n",
              "</style>\n",
              "<table border=\"1\" class=\"dataframe\">\n",
              "  <thead>\n",
              "    <tr style=\"text-align: right;\">\n",
              "      <th></th>\n",
              "      <th>Image_name</th>\n",
              "      <th>Plane</th>\n",
              "    </tr>\n",
              "  </thead>\n",
              "  <tbody>\n",
              "    <tr>\n",
              "      <th>0</th>\n",
              "      <td>Patient00001_Plane1_1_of_15</td>\n",
              "      <td>Other</td>\n",
              "    </tr>\n",
              "    <tr>\n",
              "      <th>1</th>\n",
              "      <td>Patient00001_Plane1_2_of_15</td>\n",
              "      <td>Other</td>\n",
              "    </tr>\n",
              "    <tr>\n",
              "      <th>2</th>\n",
              "      <td>Patient00001_Plane1_3_of_15</td>\n",
              "      <td>Other</td>\n",
              "    </tr>\n",
              "  </tbody>\n",
              "</table>\n",
              "</div>"
            ],
            "text/plain": [
              "                    Image_name  Plane\n",
              "0  Patient00001_Plane1_1_of_15  Other\n",
              "1  Patient00001_Plane1_2_of_15  Other\n",
              "2  Patient00001_Plane1_3_of_15  Other"
            ]
          },
          "execution_count": 4,
          "metadata": {},
          "output_type": "execute_result"
        }
      ],
      "source": [
        "if AF_TRAIN:\n",
        "    train_df = pd.read_csv(root_path + af_train_file, sep=',')\n",
        "    train_df = train_df.iloc[:,[1,4]]\n",
        "elif ALL_TRAIN:\n",
        "    train_df = pd.read_csv(root_path + all_sp_train, sep=',')\n",
        "    train_df = train_df.iloc[:,[0,2]]\n",
        "else:\n",
        "    train_df = pd.read_csv(root_path + sp_train_file, sep=',')\n",
        "    train_df = train_df.iloc[:,[2,3]]\n",
        "train_df.head(3)"
      ]
    },
    {
      "cell_type": "code",
      "execution_count": 5,
      "metadata": {},
      "outputs": [],
      "source": [
        "if HAS_OTHER:\n",
        "    ot_train_df = pd.read_csv(root_path + ot_train_file, sep=',')\n",
        "    print(ot_train_df.shape)"
      ]
    },
    {
      "cell_type": "code",
      "execution_count": 6,
      "metadata": {},
      "outputs": [],
      "source": [
        "if HAS_AF:\n",
        "    af_train_df = pd.read_csv(root_path + af_train_file, sep=',')\n",
        "    af_train_df = af_train_df.iloc[:,[1,4]]\n",
        "    print(af_train_df.shape)"
      ]
    },
    {
      "cell_type": "code",
      "execution_count": 7,
      "metadata": {},
      "outputs": [
        {
          "data": {
            "text/html": [
              "<div>\n",
              "<style scoped>\n",
              "    .dataframe tbody tr th:only-of-type {\n",
              "        vertical-align: middle;\n",
              "    }\n",
              "\n",
              "    .dataframe tbody tr th {\n",
              "        vertical-align: top;\n",
              "    }\n",
              "\n",
              "    .dataframe thead th {\n",
              "        text-align: right;\n",
              "    }\n",
              "</style>\n",
              "<table border=\"1\" class=\"dataframe\">\n",
              "  <thead>\n",
              "    <tr style=\"text-align: right;\">\n",
              "      <th></th>\n",
              "      <th>Image_name</th>\n",
              "      <th>Plane</th>\n",
              "      <th>Train</th>\n",
              "    </tr>\n",
              "  </thead>\n",
              "  <tbody>\n",
              "    <tr>\n",
              "      <th>0</th>\n",
              "      <td>00000-2671683618</td>\n",
              "      <td>Fetal abdomen</td>\n",
              "      <td>1</td>\n",
              "    </tr>\n",
              "    <tr>\n",
              "      <th>1</th>\n",
              "      <td>00001-2671683619</td>\n",
              "      <td>Fetal abdomen</td>\n",
              "      <td>1</td>\n",
              "    </tr>\n",
              "    <tr>\n",
              "      <th>2</th>\n",
              "      <td>00002-2671683620</td>\n",
              "      <td>Fetal abdomen</td>\n",
              "      <td>1</td>\n",
              "    </tr>\n",
              "  </tbody>\n",
              "</table>\n",
              "</div>"
            ],
            "text/plain": [
              "         Image_name          Plane  Train\n",
              "0  00000-2671683618  Fetal abdomen      1\n",
              "1  00001-2671683619  Fetal abdomen      1\n",
              "2  00002-2671683620  Fetal abdomen      1"
            ]
          },
          "execution_count": 7,
          "metadata": {},
          "output_type": "execute_result"
        }
      ],
      "source": [
        "syn_train_df = pd.read_csv(root_path + syn_train_file, sep=',')\n",
        "syn_train_df.head(3)"
      ]
    },
    {
      "cell_type": "code",
      "execution_count": 8,
      "metadata": {
        "colab": {
          "base_uri": "https://localhost:8080/",
          "height": 206
        },
        "id": "bklpg_Z_CV35",
        "outputId": "996e6717-aa9b-41d6-de11-217da3d19408"
      },
      "outputs": [
        {
          "data": {
            "text/html": [
              "<div>\n",
              "<style scoped>\n",
              "    .dataframe tbody tr th:only-of-type {\n",
              "        vertical-align: middle;\n",
              "    }\n",
              "\n",
              "    .dataframe tbody tr th {\n",
              "        vertical-align: top;\n",
              "    }\n",
              "\n",
              "    .dataframe thead th {\n",
              "        text-align: right;\n",
              "    }\n",
              "</style>\n",
              "<table border=\"1\" class=\"dataframe\">\n",
              "  <thead>\n",
              "    <tr style=\"text-align: right;\">\n",
              "      <th></th>\n",
              "      <th>Patient_num</th>\n",
              "      <th>Plane</th>\n",
              "      <th>Train</th>\n",
              "      <th>Center</th>\n",
              "      <th>Image_name</th>\n",
              "    </tr>\n",
              "  </thead>\n",
              "  <tbody>\n",
              "    <tr>\n",
              "      <th>0</th>\n",
              "      <td>1</td>\n",
              "      <td>Fetal abdomen</td>\n",
              "      <td>0</td>\n",
              "      <td>Algeria</td>\n",
              "      <td>patient001_DZA_plane0</td>\n",
              "    </tr>\n",
              "    <tr>\n",
              "      <th>1</th>\n",
              "      <td>1</td>\n",
              "      <td>Fetal femur</td>\n",
              "      <td>0</td>\n",
              "      <td>Algeria</td>\n",
              "      <td>patient001_DZA_plane2</td>\n",
              "    </tr>\n",
              "    <tr>\n",
              "      <th>2</th>\n",
              "      <td>1</td>\n",
              "      <td>Fetal brain</td>\n",
              "      <td>0</td>\n",
              "      <td>Algeria</td>\n",
              "      <td>patient001_DZA_plane1</td>\n",
              "    </tr>\n",
              "  </tbody>\n",
              "</table>\n",
              "</div>"
            ],
            "text/plain": [
              "   Patient_num          Plane  Train   Center             Image_name\n",
              "0            1  Fetal abdomen      0  Algeria  patient001_DZA_plane0\n",
              "1            1    Fetal femur      0  Algeria  patient001_DZA_plane2\n",
              "2            1    Fetal brain      0  Algeria  patient001_DZA_plane1"
            ]
          },
          "execution_count": 8,
          "metadata": {},
          "output_type": "execute_result"
        }
      ],
      "source": [
        "test_df = pd.read_csv(root_path + test_file, sep=',')\n",
        "test_df.head(3)"
      ]
    },
    {
      "cell_type": "code",
      "execution_count": 9,
      "metadata": {
        "colab": {
          "base_uri": "https://localhost:8080/"
        },
        "id": "Xl96vt9HDXBY",
        "outputId": "8f65f52f-be3e-4be4-d94e-a37ff4aa5783"
      },
      "outputs": [
        {
          "data": {
            "text/plain": [
              "(6148, 2)"
            ]
          },
          "execution_count": 9,
          "metadata": {},
          "output_type": "execute_result"
        }
      ],
      "source": [
        "train_df.shape"
      ]
    },
    {
      "cell_type": "code",
      "execution_count": 10,
      "metadata": {},
      "outputs": [
        {
          "data": {
            "text/plain": [
              "(5000, 2)"
            ]
          },
          "execution_count": 10,
          "metadata": {},
          "output_type": "execute_result"
        }
      ],
      "source": [
        "syn_train_df = syn_train_df.iloc[:,[0,1]]\n",
        "syn_train_df.shape"
      ]
    },
    {
      "cell_type": "code",
      "execution_count": 11,
      "metadata": {
        "colab": {
          "base_uri": "https://localhost:8080/"
        },
        "id": "94thy2PgDFNG",
        "outputId": "7f307e17-eac9-409d-d9eb-033a1e235e1b"
      },
      "outputs": [
        {
          "data": {
            "text/plain": [
              "(233, 2)"
            ]
          },
          "execution_count": 11,
          "metadata": {},
          "output_type": "execute_result"
        }
      ],
      "source": [
        "test_df = test_df.iloc[:,[4,1]]\n",
        "test_df.shape"
      ]
    },
    {
      "cell_type": "code",
      "execution_count": 12,
      "metadata": {
        "colab": {
          "base_uri": "https://localhost:8080/"
        },
        "id": "T8itBJgTE9pk",
        "outputId": "e1af1796-b365-4de0-c24f-2ca3a5d1c13f"
      },
      "outputs": [
        {
          "name": "stdout",
          "output_type": "stream",
          "text": [
            "['Fetal abdomen' 'Fetal femur' 'Fetal brain' 'Fetal thorax']\n"
          ]
        }
      ],
      "source": [
        "print(test_df[\"Plane\"].unique())"
      ]
    },
    {
      "cell_type": "code",
      "execution_count": 13,
      "metadata": {
        "id": "j9Y9kcW5y6LG"
      },
      "outputs": [],
      "source": [
        "class2idx = {\n",
        "    \"Other\":0,\n",
        "    \"Fetal abdomen\":1,\n",
        "    \"Fetal brain\":2,\n",
        "    # \"Maternal cervix\":3,\n",
        "    \"Fetal femur\":4,\n",
        "    \"Fetal thorax\":5\n",
        "}"
      ]
    },
    {
      "cell_type": "code",
      "execution_count": 14,
      "metadata": {
        "id": "qKafvgAV0kZj"
      },
      "outputs": [],
      "source": [
        "idx2class = {v: k for k, v in class2idx.items()}"
      ]
    },
    {
      "cell_type": "code",
      "execution_count": 15,
      "metadata": {
        "id": "WbVaWu5_0n5Y"
      },
      "outputs": [],
      "source": [
        "train_df[\"Plane\"].replace(class2idx, inplace=True)\n",
        "syn_train_df[\"Plane\"].replace(class2idx, inplace=True)\n",
        "test_df[\"Plane\"].replace(class2idx, inplace=True)\n",
        "\n",
        "if HAS_OTHER:\n",
        "    ot_train_df[\"Plane\"].replace(class2idx, inplace=True)\n",
        "\n",
        "if HAS_AF:\n",
        "    af_train_df[\"Plane\"].replace(class2idx, inplace=True)"
      ]
    },
    {
      "cell_type": "code",
      "execution_count": 16,
      "metadata": {
        "colab": {
          "base_uri": "https://localhost:8080/",
          "height": 206
        },
        "id": "ZN5FlLt6LI-P",
        "outputId": "22c9f1cb-ae57-47bc-b7b8-c0a04d013870"
      },
      "outputs": [
        {
          "data": {
            "text/html": [
              "<div>\n",
              "<style scoped>\n",
              "    .dataframe tbody tr th:only-of-type {\n",
              "        vertical-align: middle;\n",
              "    }\n",
              "\n",
              "    .dataframe tbody tr th {\n",
              "        vertical-align: top;\n",
              "    }\n",
              "\n",
              "    .dataframe thead th {\n",
              "        text-align: right;\n",
              "    }\n",
              "</style>\n",
              "<table border=\"1\" class=\"dataframe\">\n",
              "  <thead>\n",
              "    <tr style=\"text-align: right;\">\n",
              "      <th></th>\n",
              "      <th>Image_name</th>\n",
              "      <th>Plane</th>\n",
              "    </tr>\n",
              "  </thead>\n",
              "  <tbody>\n",
              "    <tr>\n",
              "      <th>0</th>\n",
              "      <td>Patient00001_Plane1_1_of_15</td>\n",
              "      <td>0</td>\n",
              "    </tr>\n",
              "    <tr>\n",
              "      <th>1</th>\n",
              "      <td>Patient00001_Plane1_2_of_15</td>\n",
              "      <td>0</td>\n",
              "    </tr>\n",
              "    <tr>\n",
              "      <th>2</th>\n",
              "      <td>Patient00001_Plane1_3_of_15</td>\n",
              "      <td>0</td>\n",
              "    </tr>\n",
              "  </tbody>\n",
              "</table>\n",
              "</div>"
            ],
            "text/plain": [
              "                    Image_name  Plane\n",
              "0  Patient00001_Plane1_1_of_15      0\n",
              "1  Patient00001_Plane1_2_of_15      0\n",
              "2  Patient00001_Plane1_3_of_15      0"
            ]
          },
          "execution_count": 16,
          "metadata": {},
          "output_type": "execute_result"
        }
      ],
      "source": [
        "train_df.head(3)"
      ]
    },
    {
      "cell_type": "code",
      "execution_count": 17,
      "metadata": {},
      "outputs": [
        {
          "data": {
            "text/html": [
              "<div>\n",
              "<style scoped>\n",
              "    .dataframe tbody tr th:only-of-type {\n",
              "        vertical-align: middle;\n",
              "    }\n",
              "\n",
              "    .dataframe tbody tr th {\n",
              "        vertical-align: top;\n",
              "    }\n",
              "\n",
              "    .dataframe thead th {\n",
              "        text-align: right;\n",
              "    }\n",
              "</style>\n",
              "<table border=\"1\" class=\"dataframe\">\n",
              "  <thead>\n",
              "    <tr style=\"text-align: right;\">\n",
              "      <th></th>\n",
              "      <th>Image_name</th>\n",
              "      <th>Plane</th>\n",
              "    </tr>\n",
              "  </thead>\n",
              "  <tbody>\n",
              "    <tr>\n",
              "      <th>0</th>\n",
              "      <td>00000-2671683618</td>\n",
              "      <td>1</td>\n",
              "    </tr>\n",
              "    <tr>\n",
              "      <th>1</th>\n",
              "      <td>00001-2671683619</td>\n",
              "      <td>1</td>\n",
              "    </tr>\n",
              "    <tr>\n",
              "      <th>2</th>\n",
              "      <td>00002-2671683620</td>\n",
              "      <td>1</td>\n",
              "    </tr>\n",
              "  </tbody>\n",
              "</table>\n",
              "</div>"
            ],
            "text/plain": [
              "         Image_name  Plane\n",
              "0  00000-2671683618      1\n",
              "1  00001-2671683619      1\n",
              "2  00002-2671683620      1"
            ]
          },
          "execution_count": 17,
          "metadata": {},
          "output_type": "execute_result"
        }
      ],
      "source": [
        "syn_train_df.head(3)"
      ]
    },
    {
      "cell_type": "code",
      "execution_count": 18,
      "metadata": {},
      "outputs": [],
      "source": [
        "if HAS_OTHER:\n",
        "    print(ot_train_df.head(3))"
      ]
    },
    {
      "cell_type": "code",
      "execution_count": 19,
      "metadata": {},
      "outputs": [],
      "source": [
        "if HAS_AF:\n",
        "    print(af_train_df.head(3))"
      ]
    },
    {
      "cell_type": "code",
      "execution_count": 20,
      "metadata": {
        "colab": {
          "base_uri": "https://localhost:8080/",
          "height": 206
        },
        "id": "Vc37UiHWHMgv",
        "outputId": "93a0bf48-ed1d-4f06-a0ea-059fa2c40c37"
      },
      "outputs": [
        {
          "data": {
            "text/html": [
              "<div>\n",
              "<style scoped>\n",
              "    .dataframe tbody tr th:only-of-type {\n",
              "        vertical-align: middle;\n",
              "    }\n",
              "\n",
              "    .dataframe tbody tr th {\n",
              "        vertical-align: top;\n",
              "    }\n",
              "\n",
              "    .dataframe thead th {\n",
              "        text-align: right;\n",
              "    }\n",
              "</style>\n",
              "<table border=\"1\" class=\"dataframe\">\n",
              "  <thead>\n",
              "    <tr style=\"text-align: right;\">\n",
              "      <th></th>\n",
              "      <th>Image_name</th>\n",
              "      <th>Plane</th>\n",
              "    </tr>\n",
              "  </thead>\n",
              "  <tbody>\n",
              "    <tr>\n",
              "      <th>0</th>\n",
              "      <td>patient001_DZA_plane0</td>\n",
              "      <td>1</td>\n",
              "    </tr>\n",
              "    <tr>\n",
              "      <th>1</th>\n",
              "      <td>patient001_DZA_plane2</td>\n",
              "      <td>4</td>\n",
              "    </tr>\n",
              "    <tr>\n",
              "      <th>2</th>\n",
              "      <td>patient001_DZA_plane1</td>\n",
              "      <td>2</td>\n",
              "    </tr>\n",
              "  </tbody>\n",
              "</table>\n",
              "</div>"
            ],
            "text/plain": [
              "              Image_name  Plane\n",
              "0  patient001_DZA_plane0      1\n",
              "1  patient001_DZA_plane2      4\n",
              "2  patient001_DZA_plane1      2"
            ]
          },
          "execution_count": 20,
          "metadata": {},
          "output_type": "execute_result"
        }
      ],
      "source": [
        "test_df.head(3)"
      ]
    },
    {
      "cell_type": "markdown",
      "metadata": {
        "id": "87nn7rYRLzhm"
      },
      "source": [
        "### Build Data Loader"
      ]
    },
    {
      "cell_type": "code",
      "execution_count": 21,
      "metadata": {
        "id": "fRB9YTw9L5Am"
      },
      "outputs": [],
      "source": [
        "import sys\n",
        "import torch\n",
        "import os\n",
        "import glob\n",
        "import PIL.Image\n",
        "import torch.utils.data\n",
        "import subprocess\n",
        "import cv2\n",
        "import numpy as np\n",
        "import matplotlib.image as img"
      ]
    },
    {
      "cell_type": "code",
      "execution_count": 22,
      "metadata": {},
      "outputs": [],
      "source": [
        "COMMON_TR = True"
      ]
    },
    {
      "cell_type": "code",
      "execution_count": 23,
      "metadata": {
        "id": "HC9Aw16Dipqi"
      },
      "outputs": [],
      "source": [
        "import torchvision.transforms as transforms\n",
        "import torch.nn.functional as F\n",
        "\n",
        "torch.manual_seed(0)\n",
        "\n",
        "if COMMON_TR:\n",
        "    TRANSFORMS = transforms.Compose([\n",
        "        transforms.Resize((224, 224)),\n",
        "        transforms.RandomRotation(degrees=(-15, 15)),\n",
        "        transforms.RandomResizedCrop(size=(224, 224), scale=(0.08, 1.0)),\n",
        "        transforms.RandomHorizontalFlip(),\n",
        "        transforms.ToTensor(),\n",
        "        transforms.Normalize([0.0, 0.0, 0.0], [1.0, 1.0, 1.0])\n",
        "    ])\n",
        "else:\n",
        "    TRANSFORMS = transforms.Compose([\n",
        "        transforms.Resize((224, 224)),\n",
        "        transforms.ToTensor(),\n",
        "        transforms.Normalize([0.0, 0.0, 0.0], [1.0, 1.0, 1.0])\n",
        "    ])\n",
        "\n",
        "VAL_TRANSFORMS = transforms.Compose([\n",
        "    transforms.Resize((224, 224)),\n",
        "    transforms.ToTensor(),\n",
        "    transforms.Normalize([0.0, 0.0, 0.0], [1.0, 1.0, 1.0])\n",
        "])"
      ]
    },
    {
      "cell_type": "code",
      "execution_count": 24,
      "metadata": {
        "id": "Fxf4FzflTHNE"
      },
      "outputs": [],
      "source": [
        "class Dataset(torch.utils.data.Dataset):\n",
        "    def __init__(self, root_dir, df, train=False, is_af=False, is_synthetic=False, transform=None, random_hflip=False):\n",
        "        super(Dataset, self).__init__()\n",
        "        self.root_dir = root_dir\n",
        "        self.train = train\n",
        "        self.transform = transform\n",
        "        self.random_hflip = random_hflip\n",
        "        if self.train == True and is_af:\n",
        "            self.folder_path = self.root_dir + 'african_cnn_train/'\n",
        "        elif self.train == True and is_synthetic:\n",
        "            self.folder_path = self.root_dir + 'synthetic_train_5000/'\n",
        "        elif self.train == True:\n",
        "            self.folder_path = self.root_dir + 'Planes_Train/'\n",
        "        else:\n",
        "            self.folder_path = self.root_dir + 'african_cnn_test/'\n",
        "\n",
        "        self.records = df\n",
        "        self.paths = [self.folder_path + filename + '.png' for filename in self.records['Image_name'].tolist()]\n",
        "        self.labels = pd.get_dummies(self.records['Plane'].tolist())\n",
        "\n",
        "        if self.labels.shape[1] == 4:\n",
        "            self.labels.insert(0, 0, False)\n",
        "        \n",
        "        if self.labels.shape[1] == 1:\n",
        "            self.labels.insert(1, 1, False)\n",
        "            self.labels.insert(2, 2, False)\n",
        "            self.labels.insert(3, 4, False)\n",
        "            self.labels.insert(4, 5, False)\n",
        "\n",
        "        self.transform = transform\n",
        "\n",
        "    def __len__(self):\n",
        "        return len(self.paths)\n",
        "\n",
        "    def __getitem__(self, index):\n",
        "        image = cv2.imread(self.paths[index], cv2.IMREAD_COLOR) #load US images\n",
        "        image = PIL.Image.fromarray(image)\n",
        "        #image = PIL.Image.open(self.paths[index]).convert('RGB')\n",
        "        #image = img.imread(self.paths[index])\n",
        "        label = self.labels.iloc[index].tolist() #get label of ultrasound image\n",
        "        label = torch.Tensor(label) #convert type from numpy to torch\n",
        "\n",
        "        if self.transform is not None:\n",
        "            image = self.transform(image)\n",
        "\n",
        "        #if self.random_hflip and float(np.random.random(1)) > 0.5:\n",
        "        #    image = torch.from_numpy(image.numpy()[..., ::-1].copy())\n",
        "\n",
        "        image = torch.from_numpy(image.numpy()[..., ::])\n",
        "\n",
        "        return image, label"
      ]
    },
    {
      "cell_type": "markdown",
      "metadata": {
        "id": "BbDmix8WlY0E"
      },
      "source": [
        "### Build Pre-Trained Model\n"
      ]
    },
    {
      "cell_type": "code",
      "execution_count": 25,
      "metadata": {
        "id": "liEs3dHmwFuP"
      },
      "outputs": [],
      "source": [
        "import torchvision\n",
        "import torchvision.transforms as transforms\n",
        "from PIL import Image\n",
        "from tqdm import tqdm\n",
        "\n",
        "from pathlib import Path\n",
        "import matplotlib.pyplot as plt\n",
        "import numpy as np\n",
        "from sklearn import metrics"
      ]
    },
    {
      "cell_type": "code",
      "execution_count": 27,
      "metadata": {},
      "outputs": [],
      "source": [
        "orig_img = Image.open(root_path + 'Planes_Train/Patient00807_Plane3_3_of_5.png')"
      ]
    },
    {
      "cell_type": "code",
      "execution_count": 29,
      "metadata": {
        "id": "7S4_NvKAwsEy"
      },
      "outputs": [],
      "source": [
        "def plot(imgs, with_orig=True, row_title=None, **imshow_kwargs):\n",
        "    if not isinstance(imgs[0], list):\n",
        "        # Make a 2d grid even if there's just 1 row\n",
        "        imgs = [imgs]\n",
        "\n",
        "    num_rows = len(imgs)\n",
        "    num_cols = len(imgs[0]) + with_orig\n",
        "    fig, axs = plt.subplots(nrows=num_rows, ncols=num_cols, squeeze=False)\n",
        "    for row_idx, row in enumerate(imgs):\n",
        "        row = [orig_img] + row if with_orig else row\n",
        "        for col_idx, img in enumerate(row):\n",
        "            ax = axs[row_idx, col_idx]\n",
        "            ax.imshow(np.asarray(img), **imshow_kwargs)\n",
        "            ax.set(xticklabels=[], yticklabels=[], xticks=[], yticks=[])\n",
        "\n",
        "    if with_orig:\n",
        "        axs[0, 0].set(title='Original image')\n",
        "        axs[0, 0].title.set_size(8)\n",
        "    if row_title is not None:\n",
        "        for row_idx in range(num_rows):\n",
        "            axs[row_idx, 0].set(ylabel=row_title[row_idx])\n",
        "\n",
        "    plt.tight_layout()"
      ]
    },
    {
      "cell_type": "code",
      "execution_count": 46,
      "metadata": {
        "colab": {
          "base_uri": "https://localhost:8080/",
          "height": 274
        },
        "id": "DaYyh0HxwMGK",
        "outputId": "83950f4b-6437-42a8-cf48-080069862271"
      },
      "outputs": [
        {
          "data": {
            "text/plain": [
              "<matplotlib.image.AxesImage at 0x7f0fbbcb6250>"
            ]
          },
          "execution_count": 46,
          "metadata": {},
          "output_type": "execute_result"
        },
        {
          "data": {
            "image/png": "[encoded data removed]",
            "text/plain": [
              "<Figure size 640x480 with 1 Axes>"
            ]
          },
          "metadata": {},
          "output_type": "display_data"
        }
      ],
      "source": [
        "plt.imshow(orig_img)"
      ]
    },
    {
      "cell_type": "code",
      "execution_count": 30,
      "metadata": {
        "colab": {
          "base_uri": "https://localhost:8080/",
          "height": 125
        },
        "id": "eswpP3YEwCAl",
        "outputId": "3a637936-db87-4d35-daf6-81c57ddeccf7"
      },
      "outputs": [
        {
          "data": {
            "image/png": "[encoded data removed]",
            "text/plain": [
              "<Figure size 640x480 with 4 Axes>"
            ]
          },
          "metadata": {},
          "output_type": "display_data"
        }
      ],
      "source": [
        "resize_cropper = transforms.RandomResizedCrop(size=(224, 224), scale=(0.08, 1.0))\n",
        "resized_crops = [resize_cropper(orig_img) for _ in range(3)]\n",
        "plot(resized_crops)"
      ]
    },
    {
      "cell_type": "code",
      "execution_count": 26,
      "metadata": {
        "colab": {
          "base_uri": "https://localhost:8080/",
          "height": 156,
          "referenced_widgets": [
            "62255feba5aa4dfb8514cc08c011c825",
            "33a95d57a63d4247820cd47c618dcf53",
            "a93caaff4e424026a607d39b82df3fee",
            "207c6285e3d84a7682db8990cf51ec2a",
            "a6a19721b447412e924c09d8a22192af",
            "9282556f69a04c48a40fdf5e8da54e03",
            "be5f1d95b7574681bebac43663fd488d",
            "2e174653b41042308e150b8a50686915",
            "08518a068226463685efbe3c0ef4a651",
            "c9323cc643cd4adb839fcb1185828200",
            "eb8bc1e7437f4ec0b0d8d50216b2e314"
          ]
        },
        "id": "Bdpgi2InlcG4",
        "outputId": "a2ac67ff-2de0-4a3a-9a64-563dcce2cd63"
      },
      "outputs": [],
      "source": [
        "import torch\n",
        "import torchvision\n",
        "from torchvision.models import DenseNet169_Weights, ResNet18_Weights, MobileNet_V2_Weights, EfficientNet_B0_Weights, ViT_B_16_Weights\n",
        "\n",
        "#device = torch.device('cuda')\n",
        "device = torch.device('cuda' if torch.cuda.is_available() else 'cpu')\n",
        "output_dim = len(class2idx)  # 5 categories for classification\n",
        "\n",
        "# RESNET 18\n",
        "# m_name = 'resnet'\n",
        "# model = torchvision.models.resnet18(weights=ResNet18_Weights.IMAGENET1K_V1)\n",
        "# num_features = model.fc.in_features\n",
        "# model.fc = torch.nn.Linear(num_features, output_dim)\n",
        "\n",
        "# MOBILENET V2\n",
        "# m_name = 'mobilenet'\n",
        "# model = torchvision.models.mobilenet_v2(weights=MobileNet_V2_Weights.IMAGENET1K_V1)\n",
        "# num_features = model.classifier[1].in_features\n",
        "# model.classifier[1] = torch.nn.Linear(num_features, output_dim)\n",
        "\n",
        "# EfficientNet B0\n",
        "# m_name = 'efficientnet'\n",
        "# model = torchvision.models.efficientnet_b0(weights=EfficientNet_B0_Weights.IMAGENET1K_V1)\n",
        "# num_features = model.classifier[1].in_features\n",
        "# model.classifier[1] = torch.nn.Linear(num_features, output_dim)\n",
        "\n",
        "# DENSENET 169\n",
        "# m_name = 'densenet'\n",
        "# model = torchvision.models.densenet169(weights=DenseNet169_Weights.IMAGENET1K_V1)\n",
        "# num_features = model.classifier.in_features\n",
        "# model.classifier = torch.nn.Linear(num_features, output_dim)\n",
        "\n",
        "# ViT B16\n",
        "m_name = 'vit'\n",
        "model = torchvision.models.vit_b_16(weights=ViT_B_16_Weights.IMAGENET1K_V1)\n",
        "num_features = model.heads[0].in_features\n",
        "model.heads[0] = torch.nn.Linear(num_features, output_dim)\n",
        "\n",
        "model = model.to(device)\n"
      ]
    },
    {
      "cell_type": "code",
      "execution_count": 32,
      "metadata": {
        "colab": {
          "base_uri": "https://localhost:8080/"
        },
        "id": "iiqX94qrwimH",
        "outputId": "c5b8953b-7193-4dd8-ec78-4137a7c3dde4"
      },
      "outputs": [
        {
          "name": "stdout",
          "output_type": "stream",
          "text": [
            "VisionTransformer(\n",
            "  (conv_proj): Conv2d(3, 768, kernel_size=(16, 16), stride=(16, 16))\n",
            "  (encoder): Encoder(\n",
            "    (dropout): Dropout(p=0.0, inplace=False)\n",
            "    (layers): Sequential(\n",
            "      (encoder_layer_0): EncoderBlock(\n",
            "        (ln_1): LayerNorm((768,), eps=1e-06, elementwise_affine=True)\n",
            "        (self_attention): MultiheadAttention(\n",
            "          (out_proj): NonDynamicallyQuantizableLinear(in_features=768, out_features=768, bias=True)\n",
            "        )\n",
            "        (dropout): Dropout(p=0.0, inplace=False)\n",
            "        (ln_2): LayerNorm((768,), eps=1e-06, elementwise_affine=True)\n",
            "        (mlp): MLPBlock(\n",
            "          (0): Linear(in_features=768, out_features=3072, bias=True)\n",
            "          (1): GELU(approximate='none')\n",
            "          (2): Dropout(p=0.0, inplace=False)\n",
            "          (3): Linear(in_features=3072, out_features=768, bias=True)\n",
            "          (4): Dropout(p=0.0, inplace=False)\n",
            "        )\n",
            "      )\n",
            "      (encoder_layer_1): EncoderBlock(\n",
            "        (ln_1): LayerNorm((768,), eps=1e-06, elementwise_affine=True)\n",
            "        (self_attention): MultiheadAttention(\n",
            "          (out_proj): NonDynamicallyQuantizableLinear(in_features=768, out_features=768, bias=True)\n",
            "        )\n",
            "        (dropout): Dropout(p=0.0, inplace=False)\n",
            "        (ln_2): LayerNorm((768,), eps=1e-06, elementwise_affine=True)\n",
            "        (mlp): MLPBlock(\n",
            "          (0): Linear(in_features=768, out_features=3072, bias=True)\n",
            "          (1): GELU(approximate='none')\n",
            "          (2): Dropout(p=0.0, inplace=False)\n",
            "          (3): Linear(in_features=3072, out_features=768, bias=True)\n",
            "          (4): Dropout(p=0.0, inplace=False)\n",
            "        )\n",
            "      )\n",
            "      (encoder_layer_2): EncoderBlock(\n",
            "        (ln_1): LayerNorm((768,), eps=1e-06, elementwise_affine=True)\n",
            "        (self_attention): MultiheadAttention(\n",
            "          (out_proj): NonDynamicallyQuantizableLinear(in_features=768, out_features=768, bias=True)\n",
            "        )\n",
            "        (dropout): Dropout(p=0.0, inplace=False)\n",
            "        (ln_2): LayerNorm((768,), eps=1e-06, elementwise_affine=True)\n",
            "        (mlp): MLPBlock(\n",
            "          (0): Linear(in_features=768, out_features=3072, bias=True)\n",
            "          (1): GELU(approximate='none')\n",
            "          (2): Dropout(p=0.0, inplace=False)\n",
            "          (3): Linear(in_features=3072, out_features=768, bias=True)\n",
            "          (4): Dropout(p=0.0, inplace=False)\n",
            "        )\n",
            "      )\n",
            "      (encoder_layer_3): EncoderBlock(\n",
            "        (ln_1): LayerNorm((768,), eps=1e-06, elementwise_affine=True)\n",
            "        (self_attention): MultiheadAttention(\n",
            "          (out_proj): NonDynamicallyQuantizableLinear(in_features=768, out_features=768, bias=True)\n",
            "        )\n",
            "        (dropout): Dropout(p=0.0, inplace=False)\n",
            "        (ln_2): LayerNorm((768,), eps=1e-06, elementwise_affine=True)\n",
            "        (mlp): MLPBlock(\n",
            "          (0): Linear(in_features=768, out_features=3072, bias=True)\n",
            "          (1): GELU(approximate='none')\n",
            "          (2): Dropout(p=0.0, inplace=False)\n",
            "          (3): Linear(in_features=3072, out_features=768, bias=True)\n",
            "          (4): Dropout(p=0.0, inplace=False)\n",
            "        )\n",
            "      )\n",
            "      (encoder_layer_4): EncoderBlock(\n",
            "        (ln_1): LayerNorm((768,), eps=1e-06, elementwise_affine=True)\n",
            "        (self_attention): MultiheadAttention(\n",
            "          (out_proj): NonDynamicallyQuantizableLinear(in_features=768, out_features=768, bias=True)\n",
            "        )\n",
            "        (dropout): Dropout(p=0.0, inplace=False)\n",
            "        (ln_2): LayerNorm((768,), eps=1e-06, elementwise_affine=True)\n",
            "        (mlp): MLPBlock(\n",
            "          (0): Linear(in_features=768, out_features=3072, bias=True)\n",
            "          (1): GELU(approximate='none')\n",
            "          (2): Dropout(p=0.0, inplace=False)\n",
            "          (3): Linear(in_features=3072, out_features=768, bias=True)\n",
            "          (4): Dropout(p=0.0, inplace=False)\n",
            "        )\n",
            "      )\n",
            "      (encoder_layer_5): EncoderBlock(\n",
            "        (ln_1): LayerNorm((768,), eps=1e-06, elementwise_affine=True)\n",
            "        (self_attention): MultiheadAttention(\n",
            "          (out_proj): NonDynamicallyQuantizableLinear(in_features=768, out_features=768, bias=True)\n",
            "        )\n",
            "        (dropout): Dropout(p=0.0, inplace=False)\n",
            "        (ln_2): LayerNorm((768,), eps=1e-06, elementwise_affine=True)\n",
            "        (mlp): MLPBlock(\n",
            "          (0): Linear(in_features=768, out_features=3072, bias=True)\n",
            "          (1): GELU(approximate='none')\n",
            "          (2): Dropout(p=0.0, inplace=False)\n",
            "          (3): Linear(in_features=3072, out_features=768, bias=True)\n",
            "          (4): Dropout(p=0.0, inplace=False)\n",
            "        )\n",
            "      )\n",
            "      (encoder_layer_6): EncoderBlock(\n",
            "        (ln_1): LayerNorm((768,), eps=1e-06, elementwise_affine=True)\n",
            "        (self_attention): MultiheadAttention(\n",
            "          (out_proj): NonDynamicallyQuantizableLinear(in_features=768, out_features=768, bias=True)\n",
            "        )\n",
            "        (dropout): Dropout(p=0.0, inplace=False)\n",
            "        (ln_2): LayerNorm((768,), eps=1e-06, elementwise_affine=True)\n",
            "        (mlp): MLPBlock(\n",
            "          (0): Linear(in_features=768, out_features=3072, bias=True)\n",
            "          (1): GELU(approximate='none')\n",
            "          (2): Dropout(p=0.0, inplace=False)\n",
            "          (3): Linear(in_features=3072, out_features=768, bias=True)\n",
            "          (4): Dropout(p=0.0, inplace=False)\n",
            "        )\n",
            "      )\n",
            "      (encoder_layer_7): EncoderBlock(\n",
            "        (ln_1): LayerNorm((768,), eps=1e-06, elementwise_affine=True)\n",
            "        (self_attention): MultiheadAttention(\n",
            "          (out_proj): NonDynamicallyQuantizableLinear(in_features=768, out_features=768, bias=True)\n",
            "        )\n",
            "        (dropout): Dropout(p=0.0, inplace=False)\n",
            "        (ln_2): LayerNorm((768,), eps=1e-06, elementwise_affine=True)\n",
            "        (mlp): MLPBlock(\n",
            "          (0): Linear(in_features=768, out_features=3072, bias=True)\n",
            "          (1): GELU(approximate='none')\n",
            "          (2): Dropout(p=0.0, inplace=False)\n",
            "          (3): Linear(in_features=3072, out_features=768, bias=True)\n",
            "          (4): Dropout(p=0.0, inplace=False)\n",
            "        )\n",
            "      )\n",
            "      (encoder_layer_8): EncoderBlock(\n",
            "        (ln_1): LayerNorm((768,), eps=1e-06, elementwise_affine=True)\n",
            "        (self_attention): MultiheadAttention(\n",
            "          (out_proj): NonDynamicallyQuantizableLinear(in_features=768, out_features=768, bias=True)\n",
            "        )\n",
            "        (dropout): Dropout(p=0.0, inplace=False)\n",
            "        (ln_2): LayerNorm((768,), eps=1e-06, elementwise_affine=True)\n",
            "        (mlp): MLPBlock(\n",
            "          (0): Linear(in_features=768, out_features=3072, bias=True)\n",
            "          (1): GELU(approximate='none')\n",
            "          (2): Dropout(p=0.0, inplace=False)\n",
            "          (3): Linear(in_features=3072, out_features=768, bias=True)\n",
            "          (4): Dropout(p=0.0, inplace=False)\n",
            "        )\n",
            "      )\n",
            "      (encoder_layer_9): EncoderBlock(\n",
            "        (ln_1): LayerNorm((768,), eps=1e-06, elementwise_affine=True)\n",
            "        (self_attention): MultiheadAttention(\n",
            "          (out_proj): NonDynamicallyQuantizableLinear(in_features=768, out_features=768, bias=True)\n",
            "        )\n",
            "        (dropout): Dropout(p=0.0, inplace=False)\n",
            "        (ln_2): LayerNorm((768,), eps=1e-06, elementwise_affine=True)\n",
            "        (mlp): MLPBlock(\n",
            "          (0): Linear(in_features=768, out_features=3072, bias=True)\n",
            "          (1): GELU(approximate='none')\n",
            "          (2): Dropout(p=0.0, inplace=False)\n",
            "          (3): Linear(in_features=3072, out_features=768, bias=True)\n",
            "          (4): Dropout(p=0.0, inplace=False)\n",
            "        )\n",
            "      )\n",
            "      (encoder_layer_10): EncoderBlock(\n",
            "        (ln_1): LayerNorm((768,), eps=1e-06, elementwise_affine=True)\n",
            "        (self_attention): MultiheadAttention(\n",
            "          (out_proj): NonDynamicallyQuantizableLinear(in_features=768, out_features=768, bias=True)\n",
            "        )\n",
            "        (dropout): Dropout(p=0.0, inplace=False)\n",
            "        (ln_2): LayerNorm((768,), eps=1e-06, elementwise_affine=True)\n",
            "        (mlp): MLPBlock(\n",
            "          (0): Linear(in_features=768, out_features=3072, bias=True)\n",
            "          (1): GELU(approximate='none')\n",
            "          (2): Dropout(p=0.0, inplace=False)\n",
            "          (3): Linear(in_features=3072, out_features=768, bias=True)\n",
            "          (4): Dropout(p=0.0, inplace=False)\n",
            "        )\n",
            "      )\n",
            "      (encoder_layer_11): EncoderBlock(\n",
            "        (ln_1): LayerNorm((768,), eps=1e-06, elementwise_affine=True)\n",
            "        (self_attention): MultiheadAttention(\n",
            "          (out_proj): NonDynamicallyQuantizableLinear(in_features=768, out_features=768, bias=True)\n",
            "        )\n",
            "        (dropout): Dropout(p=0.0, inplace=False)\n",
            "        (ln_2): LayerNorm((768,), eps=1e-06, elementwise_affine=True)\n",
            "        (mlp): MLPBlock(\n",
            "          (0): Linear(in_features=768, out_features=3072, bias=True)\n",
            "          (1): GELU(approximate='none')\n",
            "          (2): Dropout(p=0.0, inplace=False)\n",
            "          (3): Linear(in_features=3072, out_features=768, bias=True)\n",
            "          (4): Dropout(p=0.0, inplace=False)\n",
            "        )\n",
            "      )\n",
            "    )\n",
            "    (ln): LayerNorm((768,), eps=1e-06, elementwise_affine=True)\n",
            "  )\n",
            "  (heads): Sequential(\n",
            "    (head): Linear(in_features=768, out_features=5, bias=True)\n",
            "  )\n",
            ")\n"
          ]
        }
      ],
      "source": [
        "print(model)"
      ]
    },
    {
      "cell_type": "markdown",
      "metadata": {
        "id": "BZWng60DtFdS"
      },
      "source": [
        "### Train the Model"
      ]
    },
    {
      "cell_type": "code",
      "execution_count": 27,
      "metadata": {
        "id": "UHhR-A4bmA2B"
      },
      "outputs": [],
      "source": [
        "BATCH_SIZE = 24  # 64 could cause \"out of memory error\"\n",
        "lr = 1e-3  # learning rate\n",
        "num_epochs = 20  # number of epochs\n",
        "\n",
        "criterion = torch.nn.CrossEntropyLoss()\n",
        "\n",
        "sm = torch.nn.Softmax()\n",
        "\n",
        "#optimizer = torch.optim.Adam(model.parameters(), lr= lr, weight_decay=0.9) #define the optimiser as Adam\n",
        "optimizer = torch.optim.SGD(model.parameters(), lr=lr, momentum=0.9)\n"
      ]
    },
    {
      "cell_type": "code",
      "execution_count": 34,
      "metadata": {
        "id": "MUT2Bmvuspyc"
      },
      "outputs": [],
      "source": [
        "train_dataset = Dataset(root_dir=root_path, \n",
        "                        df=train_df, \n",
        "                        train=True, \n",
        "                        is_af=False,\n",
        "                        is_synthetic=False,\n",
        "                        transform=TRANSFORMS, \n",
        "                        random_hflip=True)"
      ]
    },
    {
      "cell_type": "code",
      "execution_count": 35,
      "metadata": {},
      "outputs": [],
      "source": [
        "HYBRID = True"
      ]
    },
    {
      "cell_type": "code",
      "execution_count": 36,
      "metadata": {},
      "outputs": [],
      "source": [
        "if HYBRID:\n",
        "    from torch.utils.data import ConcatDataset\n",
        "    syn_train_dataset = Dataset(root_dir=root_path, \n",
        "                        df=syn_train_df, \n",
        "                        train=True, \n",
        "                        is_synthetic=True,\n",
        "                        transform=TRANSFORMS, \n",
        "                        random_hflip=True)\n",
        "    train_dataset = ConcatDataset([train_dataset, syn_train_dataset])"
      ]
    },
    {
      "cell_type": "code",
      "execution_count": 37,
      "metadata": {},
      "outputs": [],
      "source": [
        "if HAS_OTHER:\n",
        "    from torch.utils.data import ConcatDataset\n",
        "\n",
        "    ot_train_dataset = Dataset(root_dir=root_path, \n",
        "                        df=ot_train_df, \n",
        "                        train=True, \n",
        "                        is_af=False,\n",
        "                        is_synthetic=False,\n",
        "                        transform=TRANSFORMS, \n",
        "                        random_hflip=True)\n",
        "    train_dataset = ConcatDataset([train_dataset, ot_train_dataset])"
      ]
    },
    {
      "cell_type": "code",
      "execution_count": 38,
      "metadata": {},
      "outputs": [],
      "source": [
        "if HAS_AF:\n",
        "    from torch.utils.data import ConcatDataset\n",
        "\n",
        "    af_train_dataset = Dataset(root_dir=root_path, \n",
        "                        df=af_train_df, \n",
        "                        train=True, \n",
        "                        is_af=True,\n",
        "                        is_synthetic=False,\n",
        "                        transform=TRANSFORMS, \n",
        "                        random_hflip=True)\n",
        "    train_dataset = ConcatDataset([train_dataset, af_train_dataset])"
      ]
    },
    {
      "cell_type": "code",
      "execution_count": 39,
      "metadata": {},
      "outputs": [],
      "source": [
        "train_loader = torch.utils.data.DataLoader(train_dataset, batch_size=BATCH_SIZE, \n",
        "                                           shuffle=True, num_workers=0, drop_last=False)"
      ]
    },
    {
      "cell_type": "code",
      "execution_count": 40,
      "metadata": {},
      "outputs": [],
      "source": [
        "num_samples = 200\n",
        "random_sampler = torch.utils.data.RandomSampler(train_dataset, num_samples=num_samples)\n",
        "val_loader = torch.utils.data.DataLoader(train_dataset, batch_size=BATCH_SIZE, sampler=random_sampler)"
      ]
    },
    {
      "cell_type": "code",
      "execution_count": 28,
      "metadata": {
        "id": "jWoitz9HtFIT"
      },
      "outputs": [],
      "source": [
        "test_dataset = Dataset(root_dir=root_path, df=test_df, \n",
        "                       train=False, transform=VAL_TRANSFORMS, \n",
        "                       random_hflip=False)\n",
        "test_loader = torch.utils.data.DataLoader(test_dataset, batch_size=BATCH_SIZE, \n",
        "                                          shuffle=True, num_workers=0, drop_last=False)"
      ]
    },
    {
      "cell_type": "code",
      "execution_count": 42,
      "metadata": {},
      "outputs": [
        {
          "name": "stdout",
          "output_type": "stream",
          "text": [
            "training data size: 11148\n",
            "test data size: 233\n"
          ]
        }
      ],
      "source": [
        "print(f'training data size: {len(train_dataset)}')\n",
        "print(f'test data size: {len(test_dataset)}')"
      ]
    },
    {
      "cell_type": "markdown",
      "metadata": {
        "id": "GIMik1WmvoB_"
      },
      "source": [
        "### Start Training"
      ]
    },
    {
      "cell_type": "code",
      "execution_count": 43,
      "metadata": {
        "id": "iLS-XYUPkjKf"
      },
      "outputs": [],
      "source": [
        "train_loss = []\n",
        "train_auc = []\n",
        "\n",
        "val_loss = []\n",
        "val_auc = []\n",
        "\n",
        "total_tr_step = len(train_loader)\n",
        "total_val_step = len(val_loader)\n",
        "\n",
        "best_val_auc = 0.0\n",
        "\n",
        "early_trigger = 5 #if the validation AUC hasn't increased in ten epochs, stop the training\n",
        "early_stop = 0 #counter for the number of iterations where there has been no increase in validation AUC\n"
      ]
    },
    {
      "cell_type": "code",
      "execution_count": 44,
      "metadata": {
        "colab": {
          "base_uri": "https://localhost:8080/"
        },
        "id": "hnh1COIMlEE3",
        "outputId": "151973fe-068b-46ca-9742-ce2a9a3947c3"
      },
      "outputs": [
        {
          "name": "stderr",
          "output_type": "stream",
          "text": [
            "100%|██████████| 465/465 [07:42<00:00,  1.00it/s]\n",
            "100%|██████████| 9/9 [00:02<00:00,  3.89it/s]\n"
          ]
        },
        {
          "name": "stdout",
          "output_type": "stream",
          "text": [
            "epoch : 1 | train loss : 0.2433780880333723 | train auc : 76.84910757022729 | val loss : 0.1426134615400691 | val auc : 90.22134038800705 \n",
            "--------------------------------------------------\n"
          ]
        },
        {
          "name": "stderr",
          "output_type": "stream",
          "text": [
            "100%|██████████| 465/465 [02:49<00:00,  2.75it/s]\n",
            "100%|██████████| 9/9 [00:02<00:00,  3.93it/s]\n"
          ]
        },
        {
          "name": "stdout",
          "output_type": "stream",
          "text": [
            "epoch : 2 | train loss : 0.17799612933746134 | train auc : 84.57951716984589 | val loss : 0.1136598836308644 | val auc : 91.5162037037037 \n",
            "--------------------------------------------------\n"
          ]
        },
        {
          "name": "stderr",
          "output_type": "stream",
          "text": [
            "100%|██████████| 465/465 [02:50<00:00,  2.73it/s]\n",
            "100%|██████████| 9/9 [00:02<00:00,  4.13it/s]\n"
          ]
        },
        {
          "name": "stdout",
          "output_type": "stream",
          "text": [
            "epoch : 3 | train loss : 0.1508205572410645 | train auc : 87.5566439279754 | val loss : 0.11045174000194534 | val auc : 91.71814373897706 \n",
            "--------------------------------------------------\n"
          ]
        },
        {
          "name": "stderr",
          "output_type": "stream",
          "text": [
            "100%|██████████| 465/465 [02:47<00:00,  2.77it/s]\n",
            "100%|██████████| 9/9 [00:02<00:00,  4.03it/s]\n"
          ]
        },
        {
          "name": "stdout",
          "output_type": "stream",
          "text": [
            "epoch : 4 | train loss : 0.13308787323357893 | train auc : 89.24998925777183 | val loss : 0.10970930113560623 | val auc : 92.12378747795415 \n",
            "--------------------------------------------------\n"
          ]
        },
        {
          "name": "stderr",
          "output_type": "stream",
          "text": [
            "100%|██████████| 465/465 [02:51<00:00,  2.72it/s]\n",
            "100%|██████████| 9/9 [00:02<00:00,  3.90it/s]\n"
          ]
        },
        {
          "name": "stdout",
          "output_type": "stream",
          "text": [
            "epoch : 5 | train loss : 0.12173681831488906 | train auc : 90.34621525185676 | val loss : 0.10921891004215052 | val auc : 92.54951499118167 \n",
            "--------------------------------------------------\n"
          ]
        },
        {
          "name": "stderr",
          "output_type": "stream",
          "text": [
            "100%|██████████| 465/465 [02:50<00:00,  2.72it/s]\n",
            "100%|██████████| 9/9 [00:02<00:00,  3.73it/s]\n"
          ]
        },
        {
          "name": "stdout",
          "output_type": "stream",
          "text": [
            "epoch : 6 | train loss : 0.11380546575758417 | train auc : 91.07708749221 | val loss : 0.09874526633969181 | val auc : 93.47556584362142 \n",
            "--------------------------------------------------\n"
          ]
        },
        {
          "name": "stderr",
          "output_type": "stream",
          "text": [
            "100%|██████████| 465/465 [02:49<00:00,  2.74it/s]\n",
            "100%|██████████| 9/9 [00:02<00:00,  4.02it/s]\n"
          ]
        },
        {
          "name": "stdout",
          "output_type": "stream",
          "text": [
            "epoch : 7 | train loss : 0.10753126645798133 | train auc : 91.67149244299807 | val loss : 0.09358016640765879 | val auc : 93.8494740488788 \n",
            "--------------------------------------------------\n"
          ]
        },
        {
          "name": "stderr",
          "output_type": "stream",
          "text": [
            "100%|██████████| 465/465 [02:50<00:00,  2.72it/s]\n",
            "100%|██████████| 9/9 [00:02<00:00,  3.98it/s]\n"
          ]
        },
        {
          "name": "stdout",
          "output_type": "stream",
          "text": [
            "epoch : 8 | train loss : 0.1024101870947143 | train auc : 92.11339867316876 | val loss : 0.08875188464945596 | val auc : 94.25168099647266 \n",
            "--------------------------------------------------\n"
          ]
        },
        {
          "name": "stderr",
          "output_type": "stream",
          "text": [
            "100%|██████████| 465/465 [02:48<00:00,  2.75it/s]\n",
            "100%|██████████| 9/9 [00:02<00:00,  3.76it/s]\n"
          ]
        },
        {
          "name": "stdout",
          "output_type": "stream",
          "text": [
            "epoch : 9 | train loss : 0.09842707090544722 | train auc : 92.43563966981802 | val loss : 0.08519430328620436 | val auc : 94.58254948069764 \n",
            "--------------------------------------------------\n"
          ]
        },
        {
          "name": "stderr",
          "output_type": "stream",
          "text": [
            "100%|██████████| 465/465 [02:48<00:00,  2.75it/s]\n",
            "100%|██████████| 9/9 [00:02<00:00,  4.11it/s]\n"
          ]
        },
        {
          "name": "stdout",
          "output_type": "stream",
          "text": [
            "epoch : 10 | train loss : 0.09483255361559988 | train auc : 92.76276970672136 | val loss : 0.08018770415312897 | val auc : 94.90457451499118 \n",
            "--------------------------------------------------\n"
          ]
        },
        {
          "name": "stderr",
          "output_type": "stream",
          "text": [
            "100%|██████████| 465/465 [02:49<00:00,  2.74it/s]\n",
            "100%|██████████| 9/9 [00:02<00:00,  3.68it/s]\n"
          ]
        },
        {
          "name": "stdout",
          "output_type": "stream",
          "text": [
            "epoch : 11 | train loss : 0.09144607486283006 | train auc : 93.04844519757583 | val loss : 0.0776152855243145 | val auc : 95.10079966329965 \n",
            "--------------------------------------------------\n"
          ]
        },
        {
          "name": "stderr",
          "output_type": "stream",
          "text": [
            "100%|██████████| 465/465 [02:49<00:00,  2.75it/s]\n",
            "100%|██████████| 9/9 [00:02<00:00,  4.16it/s]\n"
          ]
        },
        {
          "name": "stdout",
          "output_type": "stream",
          "text": [
            "epoch : 12 | train loss : 0.08867580696867694 | train auc : 93.25215118553925 | val loss : 0.07391050535085547 | val auc : 95.28974684009407 \n",
            "--------------------------------------------------\n"
          ]
        },
        {
          "name": "stderr",
          "output_type": "stream",
          "text": [
            "100%|██████████| 465/465 [02:49<00:00,  2.75it/s]\n",
            "100%|██████████| 9/9 [00:02<00:00,  4.26it/s]\n"
          ]
        },
        {
          "name": "stdout",
          "output_type": "stream",
          "text": [
            "epoch : 13 | train loss : 0.08607205050246677 | train auc : 93.47675320599012 | val loss : 0.07423990616284784 | val auc : 95.311278998779 \n",
            "--------------------------------------------------\n"
          ]
        },
        {
          "name": "stderr",
          "output_type": "stream",
          "text": [
            "100%|██████████| 465/465 [02:48<00:00,  2.76it/s]\n",
            "100%|██████████| 9/9 [00:02<00:00,  4.07it/s]\n"
          ]
        },
        {
          "name": "stdout",
          "output_type": "stream",
          "text": [
            "epoch : 14 | train loss : 0.08395373069526907 | train auc : 93.66034559587187 | val loss : 0.0710160671499257 | val auc : 95.44016124968505 \n",
            "--------------------------------------------------\n"
          ]
        },
        {
          "name": "stderr",
          "output_type": "stream",
          "text": [
            "100%|██████████| 465/465 [02:50<00:00,  2.73it/s]\n",
            "100%|██████████| 9/9 [00:02<00:00,  3.61it/s]\n"
          ]
        },
        {
          "name": "stdout",
          "output_type": "stream",
          "text": [
            "epoch : 15 | train loss : 0.08181038736910573 | train auc : 93.83347278679467 | val loss : 0.0699643246246954 | val auc : 95.4514256319812 \n",
            "--------------------------------------------------\n"
          ]
        },
        {
          "name": "stderr",
          "output_type": "stream",
          "text": [
            "100%|██████████| 465/465 [02:48<00:00,  2.76it/s]\n",
            "100%|██████████| 9/9 [00:02<00:00,  3.43it/s]\n"
          ]
        },
        {
          "name": "stdout",
          "output_type": "stream",
          "text": [
            "epoch : 16 | train loss : 0.07966244620391 | train auc : 94.01229296794958 | val loss : 0.06841617136012279 | val auc : 95.55470816798942 \n",
            "--------------------------------------------------\n"
          ]
        },
        {
          "name": "stderr",
          "output_type": "stream",
          "text": [
            "100%|██████████| 465/465 [02:48<00:00,  2.76it/s]\n",
            "100%|██████████| 9/9 [00:02<00:00,  4.02it/s]\n"
          ]
        },
        {
          "name": "stdout",
          "output_type": "stream",
          "text": [
            "epoch : 17 | train loss : 0.07772955395647341 | train auc : 94.16268203707222 | val loss : 0.06682638850566283 | val auc : 95.66295129162776 \n",
            "--------------------------------------------------\n"
          ]
        },
        {
          "name": "stderr",
          "output_type": "stream",
          "text": [
            "100%|██████████| 465/465 [02:48<00:00,  2.76it/s]\n",
            "100%|██████████| 9/9 [00:02<00:00,  3.77it/s]\n"
          ]
        },
        {
          "name": "stdout",
          "output_type": "stream",
          "text": [
            "epoch : 18 | train loss : 0.07598221490670842 | train auc : 94.31048274572927 | val loss : 0.06587290969282511 | val auc : 95.81913212815991 \n",
            "--------------------------------------------------\n"
          ]
        },
        {
          "name": "stderr",
          "output_type": "stream",
          "text": [
            "100%|██████████| 465/465 [02:47<00:00,  2.77it/s]\n",
            "100%|██████████| 9/9 [00:02<00:00,  3.76it/s]\n"
          ]
        },
        {
          "name": "stdout",
          "output_type": "stream",
          "text": [
            "epoch : 19 | train loss : 0.0743975394198644 | train auc : 94.44020010230096 | val loss : 0.06498206741417999 | val auc : 95.88725865589902 \n",
            "--------------------------------------------------\n"
          ]
        },
        {
          "name": "stderr",
          "output_type": "stream",
          "text": [
            "100%|██████████| 465/465 [02:22<00:00,  3.27it/s]\n",
            "100%|██████████| 9/9 [00:02<00:00,  4.47it/s]"
          ]
        },
        {
          "name": "stdout",
          "output_type": "stream",
          "text": [
            "epoch : 20 | train loss : 0.0731122142930528 | train auc : 94.53276696284246 | val loss : 0.06489734695476974 | val auc : 95.9086364638448 \n",
            "--------------------------------------------------\n"
          ]
        },
        {
          "name": "stderr",
          "output_type": "stream",
          "text": [
            "\n"
          ]
        }
      ],
      "source": [
        "for epoch in range(1, num_epochs+1):\n",
        "    i = 0\n",
        "    sum_loss = 0.0\n",
        "    error_count = 0.0\n",
        "    running_loss = 0.0\n",
        "    train_correct = 0\n",
        "    train_total=0\n",
        "\n",
        "    #with tqdm(train_loader, unit=\"batch\") as tepoch:\n",
        "    model.train()\n",
        "    for image, target in iter(tqdm(train_loader)):\n",
        "      image = image.to(device)\n",
        "      target = target.to(device)\n",
        "      # clear the gradients of all optimized variables\n",
        "      optimizer.zero_grad()\n",
        "\n",
        "      # forward pass: compute predicted outputs by passing inputs to the model\n",
        "      output = model(image)\n",
        "      # probablities for classes\n",
        "      #probs = sm(output)\n",
        "      # get the predicted label\n",
        "      #_,pred = torch.max(output, dim=1)\n",
        "      # calculate the batch loss\n",
        "      loss = criterion(output, target)\n",
        "      # backward pass: compute gradient of the loss wrt model parameters\n",
        "      loss.backward()\n",
        "      # perform a ingle optimization step (parameter update)\n",
        "      optimizer.step()\n",
        "      # update training loss\n",
        "      running_loss += loss.item()\n",
        "\n",
        "      pred_softmax = torch.log_softmax(output, dim = 1)\n",
        "      _,pred = torch.max(pred_softmax, dim=1)\n",
        "      #target_label = np.argmax(target, axis=1)      # for CPU\n",
        "      target_label = target.argmax(1).cpu().numpy()  # for GPU\n",
        "\n",
        "      target_label = torch.from_numpy(target_label).to(device)             # for GPU ONLY\n",
        "      train_correct += torch.sum(pred == target_label).item()\n",
        "      train_total += target_label.size(0)\n",
        "\n",
        "      train_auc.append(100 * train_correct / train_total)\n",
        "      train_loss.append(running_loss/total_tr_step)\n",
        "\n",
        "    # print(\"epoch : {0} | train loss : {1} | train auc : {2} \".format(epoch, np.mean(train_loss), np.mean(train_auc)))\n",
        "    # print('-' * 50)\n",
        "\n",
        "    sum_loss = 0.0\n",
        "    error_count = 0.0\n",
        "    running_loss = 0.0\n",
        "    val_correct = 0\n",
        "    val_total=0\n",
        "    targets = []\n",
        "    preds = []\n",
        "\n",
        "    model.eval()\n",
        "    # with tqdm(test_loader, unit=\"batch\") as tepoch:\n",
        "    for image, target in iter(tqdm(val_loader)):\n",
        "      image = image.to(device)\n",
        "      target = target.to(device)\n",
        "      output = model(image)\n",
        "      loss = criterion(output, target)\n",
        "      running_loss += loss.item()\n",
        "      pred_softmax = torch.log_softmax(output, dim = 1)\n",
        "      _,pred = torch.max(pred_softmax, dim=1)\n",
        "\n",
        "      target_label = target.argmax(1).cpu().numpy()  # for GPU\n",
        "      target_label = torch.from_numpy(target_label).to(device)  # for GPU ONLY\n",
        "\n",
        "      targets = targets + list(target_label.cpu().numpy())  # for GPU ONLY\n",
        "      preds = preds + list(pred.cpu().numpy())  # for GPU ONLY\n",
        "\n",
        "      val_correct += torch.sum(pred == target_label).item()\n",
        "      val_total += target_label.size(0)\n",
        "\n",
        "      val_auc.append(100 * val_correct / val_total)\n",
        "      val_loss.append(running_loss/total_val_step)\n",
        "\n",
        "      # if val_auc[-1] > best_val_auc:\n",
        "      #   best_val_auc = val_auc[-1]\n",
        "      #   early_stop = 0\n",
        "      # else:\n",
        "      #   early_stop += 1\n",
        "\n",
        "      # if early_stop == early_trigger:\n",
        "      #   print('Early stopping after {} epochs'.format(epoch))\n",
        "      #   sys.exit()\n",
        "\n",
        "    print(\"epoch : {0} | train loss : {1} | train auc : {2} | val loss : {3} | val auc : {4} \".format(epoch,\n",
        "                                                                                                      np.mean(train_loss),\n",
        "                                                                                                      np.mean(train_auc),\n",
        "                                                                                                      np.mean(val_loss),\n",
        "                                                                                                      np.mean(val_auc)))\n",
        "    print('-' * 50)"
      ]
    },
    {
      "cell_type": "code",
      "execution_count": 45,
      "metadata": {
        "id": "emRu4KOoABmp"
      },
      "outputs": [],
      "source": [
        "from datetime import date\n",
        "\n",
        "today = date.today()\n",
        "\n",
        "# ddmmYYYY\n",
        "cdate = today.strftime(\"%d%m%Y\")"
      ]
    },
    {
      "cell_type": "code",
      "execution_count": null,
      "metadata": {
        "id": "u02xTzAtASgC"
      },
      "outputs": [],
      "source": [
        "model_name = model_dir + f'spain_synthesis_6148_5000_{m_name}_{cdate}.pth'\n",
        "model_name"
      ]
    },
    {
      "cell_type": "code",
      "execution_count": 47,
      "metadata": {
        "id": "pDyGWud6_GaR"
      },
      "outputs": [],
      "source": [
        "def save_moel(model_name):\n",
        "  # torch.save(model.state_dict(), model_name)\n",
        "  torch.save(model, model_name)"
      ]
    },
    {
      "cell_type": "code",
      "execution_count": 48,
      "metadata": {},
      "outputs": [],
      "source": [
        "save_moel(model_name)"
      ]
    },
    {
      "cell_type": "code",
      "execution_count": 29,
      "metadata": {
        "id": "JwN32SVk_Gdw"
      },
      "outputs": [],
      "source": [
        "def load_model(model_name):\n",
        "  # model.load_state_dict(torch.load(model_name))\n",
        "  print(model_name)\n",
        "  model = torch.load(model_name)\n",
        "  model.eval()\n",
        "  return model"
      ]
    },
    {
      "cell_type": "code",
      "execution_count": 49,
      "metadata": {
        "colab": {
          "base_uri": "https://localhost:8080/"
        },
        "id": "hEBSe4MHBcB9",
        "outputId": "7954c3df-ed87-485e-fd3b-162e186b2e8f"
      },
      "outputs": [
        {
          "name": "stdout",
          "output_type": "stream",
          "text": [
            "Using device: cuda\n",
            "\n",
            "NVIDIA GeForce RTX 4090\n",
            "Memory Usage:\n",
            "Allocated: 1.9 GB\n",
            "Cached:    7.1 GB\n"
          ]
        },
        {
          "name": "stderr",
          "output_type": "stream",
          "text": [
            "/home/fangyijie/miniconda3/envs/sam_env/lib/python3.11/site-packages/torch/cuda/memory.py:444: FutureWarning: torch.cuda.memory_cached has been renamed to torch.cuda.memory_reserved\n",
            "  warnings.warn(\n"
          ]
        }
      ],
      "source": [
        "import torch\n",
        "\n",
        "# setting device on GPU if available, else CPU\n",
        "device = torch.device('cuda' if torch.cuda.is_available() else 'cpu')\n",
        "print('Using device:', device)\n",
        "print()\n",
        "\n",
        "#Additional Info when using cuda\n",
        "if device.type == 'cuda':\n",
        "    print(torch.cuda.get_device_name(0))\n",
        "    print('Memory Usage:')\n",
        "    print('Allocated:', round(torch.cuda.memory_allocated(0)/1024**3,1), 'GB')\n",
        "    print('Cached:   ', round(torch.cuda.memory_cached(0)/1024**3,1), 'GB')"
      ]
    },
    {
      "cell_type": "code",
      "execution_count": null,
      "metadata": {},
      "outputs": [],
      "source": [
        "# inference\n",
        "model_name = model_dir + 'spain_synthesis_6148_5000_vit_25072024.pth'\n",
        "model_name"
      ]
    },
    {
      "cell_type": "code",
      "execution_count": null,
      "metadata": {
        "id": "7WHHytqM_SVa"
      },
      "outputs": [],
      "source": [
        "model = load_model(model_name).to(device)"
      ]
    },
    {
      "cell_type": "code",
      "execution_count": null,
      "metadata": {
        "colab": {
          "base_uri": "https://localhost:8080/"
        },
        "id": "RiVNiJN5SPCt",
        "outputId": "700150fb-83f2-4647-d5bd-6b4ff46eca97"
      },
      "outputs": [],
      "source": [
        "# cpu\n",
        "#model.load_state_dict(torch.load(model_name, map_location=torch.device('cpu')))"
      ]
    },
    {
      "cell_type": "markdown",
      "metadata": {},
      "source": [
        "### Start Evaluation"
      ]
    },
    {
      "cell_type": "code",
      "execution_count": 43,
      "metadata": {
        "colab": {
          "base_uri": "https://localhost:8080/",
          "height": 253
        },
        "id": "JHQUGIGU9m4t",
        "outputId": "c391c667-2e6f-4bf3-ee2f-3f1e87c333d7"
      },
      "outputs": [
        {
          "name": "stderr",
          "output_type": "stream",
          "text": [
            "100%|██████████| 10/10 [00:01<00:00,  7.93it/s]"
          ]
        },
        {
          "name": "stdout",
          "output_type": "stream",
          "text": [
            "val loss : 0.4837615324556827 | val auc : 75.83754286168448 \n",
            "--------------------------------------------------\n"
          ]
        },
        {
          "name": "stderr",
          "output_type": "stream",
          "text": [
            "\n"
          ]
        }
      ],
      "source": [
        "best_val_auc = 0.0\n",
        "sum_loss = 0.0\n",
        "error_count = 0.0\n",
        "running_loss = 0.0\n",
        "val_correct = 0\n",
        "val_total=0\n",
        "total_val_step = len(test_loader)\n",
        "val_loss = []\n",
        "val_auc = []\n",
        "targets = []\n",
        "preds = []\n",
        "model.eval()\n",
        "\n",
        "for image, target in iter(tqdm(test_loader)):\n",
        "  image = image.to(device)\n",
        "  target = target.to(device)\n",
        "  output = model(image)\n",
        "  loss = criterion(output, target)\n",
        "  running_loss += loss.item()\n",
        "  pred_softmax = torch.log_softmax(output, dim = 1)\n",
        "  _,pred = torch.max(pred_softmax, dim=1)\n",
        "\n",
        "  #target_label = np.argmax(target, axis=1)      # for CPU\n",
        "  target_label = target.argmax(1).cpu().numpy()  # for GPU\n",
        "  target_label = torch.from_numpy(target_label).to(device)  # for GPU ONLY\n",
        "\n",
        "  #targets = np.concatenate((targets, target_label.numpy()), axis=None)  # for CPU\n",
        "  #preds = preds + pred.numpy()              # for CPU\n",
        "  targets = targets + list(target_label.cpu().numpy())  # for GPU ONLY\n",
        "  preds = preds + list(pred.cpu().numpy())  # for GPU ONLY\n",
        "\n",
        "  val_correct += torch.sum(pred == target_label).item()\n",
        "  val_total += target_label.size(0)\n",
        "\n",
        "  val_auc.append(100 * val_correct / val_total)\n",
        "  val_loss.append(running_loss/total_val_step)\n",
        "\n",
        "print(\"val loss : {0} | val auc : {1} \".format(np.mean(val_loss), np.mean(val_auc)))\n",
        "print('-' * 50)"
      ]
    },
    {
      "cell_type": "code",
      "execution_count": null,
      "metadata": {
        "id": "T7uJ3N3CSplH"
      },
      "outputs": [],
      "source": [
        "# Handle with out of memory issue\n",
        "# OutOfMemoryError: CUDA out of memory.\n",
        "torch.cuda.empty_cache()"
      ]
    },
    {
      "cell_type": "code",
      "execution_count": 36,
      "metadata": {
        "id": "vcR7B8T2vWd6"
      },
      "outputs": [],
      "source": [
        "from sklearn.metrics import confusion_matrix\n",
        "from sklearn.metrics import multilabel_confusion_matrix, classification_report\n",
        "import seaborn as sns"
      ]
    },
    {
      "cell_type": "code",
      "execution_count": null,
      "metadata": {},
      "outputs": [],
      "source": [
        "# cf_matrix = multilabel_confusion_matrix(targets, preds, labels=['OT','AB','BR','FE','TH'])"
      ]
    },
    {
      "cell_type": "code",
      "execution_count": null,
      "metadata": {},
      "outputs": [],
      "source": [
        "# metrics.f1_score(targets, preds, average='weighted', labels=np.unique(preds))"
      ]
    },
    {
      "cell_type": "code",
      "execution_count": null,
      "metadata": {},
      "outputs": [],
      "source": [
        "# metrics.recall_score(targets, preds, average='weighted', labels=np.unique(preds))"
      ]
    },
    {
      "cell_type": "code",
      "execution_count": 44,
      "metadata": {
        "colab": {
          "base_uri": "https://localhost:8080/"
        },
        "id": "iBpdJp-YzLJw",
        "outputId": "fdbac1b4-8fee-4886-e21b-b2fe2752a432"
      },
      "outputs": [
        {
          "data": {
            "text/plain": [
              "array([[ 0,  0,  0,  0,  0],\n",
              "       [25, 37,  0,  2,  1],\n",
              "       [ 1,  0, 64,  0,  0],\n",
              "       [11,  0,  0, 53,  0],\n",
              "       [ 8,  0,  1,  1, 29]])"
            ]
          },
          "execution_count": 44,
          "metadata": {},
          "output_type": "execute_result"
        }
      ],
      "source": [
        "cf_matrix = confusion_matrix(targets, preds)\n",
        "cf_matrix"
      ]
    },
    {
      "cell_type": "code",
      "execution_count": 38,
      "metadata": {
        "colab": {
          "base_uri": "https://localhost:8080/",
          "height": 350
        },
        "id": "x1uJDSetIdoZ",
        "outputId": "cbdadb88-1477-4a80-cad4-d9fc1c33c1a5"
      },
      "outputs": [
        {
          "data": {
            "text/plain": [
              "<Axes: >"
            ]
          },
          "execution_count": 38,
          "metadata": {},
          "output_type": "execute_result"
        },
        {
          "data": {
            "image/png": "[encoded data removed]",
            "text/plain": [
              "<Figure size 640x480 with 2 Axes>"
            ]
          },
          "metadata": {},
          "output_type": "display_data"
        }
      ],
      "source": [
        "sns.heatmap(cf_matrix,\n",
        "            annot=True,\n",
        "            cmap='Blues',\n",
        "            fmt='g',\n",
        "            xticklabels=class2idx.keys(),\n",
        "            yticklabels=class2idx.keys())"
      ]
    },
    {
      "cell_type": "markdown",
      "metadata": {},
      "source": [
        "#### Compute AUC"
      ]
    },
    {
      "cell_type": "code",
      "execution_count": 39,
      "metadata": {},
      "outputs": [],
      "source": [
        "from sklearn.metrics import roc_auc_score"
      ]
    },
    {
      "cell_type": "code",
      "execution_count": 40,
      "metadata": {},
      "outputs": [],
      "source": [
        "def roc_auc_score_multiclass(actual, pred, average = \"macro\"):\n",
        "    #creating a set of all the unique classes using the actual class list\n",
        "    unique_class = set(actual)\n",
        "    roc_auc_dict = {}\n",
        "    for per_class in unique_class:\n",
        "        \n",
        "        #creating a list of all the classes except the current class \n",
        "        other_class = [x for x in unique_class if x != per_class]\n",
        "\n",
        "        #marking the current class as 1 and all other classes as 0\n",
        "        new_actual_class = [0 if x in other_class else 1 for x in actual]\n",
        "        new_pred_class = [0 if x in other_class else 1 for x in pred]\n",
        "\n",
        "        #using the sklearn metrics method to calculate the roc_auc_score\n",
        "        roc_auc = roc_auc_score(new_actual_class, new_pred_class, average = average)\n",
        "        roc_auc_dict[per_class] = roc_auc\n",
        "\n",
        "    return roc_auc_dict"
      ]
    },
    {
      "cell_type": "code",
      "execution_count": 45,
      "metadata": {},
      "outputs": [
        {
          "data": {
            "text/plain": [
              "{1: 0.9173992673992675,\n",
              " 2: 0.8660714285714286,\n",
              " 3: 0.8905325443786982,\n",
              " 4: 0.8764208300290774}"
            ]
          },
          "execution_count": 45,
          "metadata": {},
          "output_type": "execute_result"
        }
      ],
      "source": [
        "roc_auc_dict = roc_auc_score_multiclass(targets, preds)\n",
        "roc_auc_dict"
      ]
    },
    {
      "cell_type": "code",
      "execution_count": 46,
      "metadata": {},
      "outputs": [
        {
          "data": {
            "text/plain": [
              "'88.76'"
            ]
          },
          "execution_count": 46,
          "metadata": {},
          "output_type": "execute_result"
        }
      ],
      "source": [
        "avg_auc = 0\n",
        "for val in roc_auc_dict.values(): \n",
        "    avg_auc += val\n",
        "\n",
        "\"{:.2f}\".format(avg_auc*100/len(roc_auc_dict))"
      ]
    }
  ],
  "metadata": {
    "accelerator": "GPU",
    "colab": {
      "gpuType": "T4",
      "provenance": []
    },
    "kernelspec": {
      "display_name": "sam_env",
      "language": "python",
      "name": "python3"
    },
    "language_info": {
      "codemirror_mode": {
        "name": "ipython",
        "version": 3
      },
      "file_extension": ".py",
      "mimetype": "text/x-python",
      "name": "python",
      "nbconvert_exporter": "python",
      "pygments_lexer": "ipython3",
      "version": "3.11.5"
    },
    "widgets": {
      "application/vnd.jupyter.widget-state+json": {
        "08518a068226463685efbe3c0ef4a651": {
          "model_module": "@jupyter-widgets/controls",
          "model_module_version": "1.5.0",
          "model_name": "ProgressStyleModel",
          "state": {
            "_model_module": "@jupyter-widgets/controls",
            "_model_module_version": "1.5.0",
            "_model_name": "ProgressStyleModel",
            "_view_count": null,
            "_view_module": "@jupyter-widgets/base",
            "_view_module_version": "1.2.0",
            "_view_name": "StyleView",
            "bar_color": null,
            "description_width": ""
          }
        },
        "207c6285e3d84a7682db8990cf51ec2a": {
          "model_module": "@jupyter-widgets/controls",
          "model_module_version": "1.5.0",
          "model_name": "HTMLModel",
          "state": {
            "_dom_classes": [],
            "_model_module": "@jupyter-widgets/controls",
            "_model_module_version": "1.5.0",
            "_model_name": "HTMLModel",
            "_view_count": null,
            "_view_module": "@jupyter-widgets/controls",
            "_view_module_version": "1.5.0",
            "_view_name": "HTMLView",
            "description": "",
            "description_tooltip": null,
            "layout": "IPY_MODEL_c9323cc643cd4adb839fcb1185828200",
            "placeholder": "​",
            "style": "IPY_MODEL_eb8bc1e7437f4ec0b0d8d50216b2e314",
            "value": " 54.7M/54.7M [00:00&lt;00:00, 113MB/s]"
          }
        },
        "2e174653b41042308e150b8a50686915": {
          "model_module": "@jupyter-widgets/base",
          "model_module_version": "1.2.0",
          "model_name": "LayoutModel",
          "state": {
            "_model_module": "@jupyter-widgets/base",
            "_model_module_version": "1.2.0",
            "_model_name": "LayoutModel",
            "_view_count": null,
            "_view_module": "@jupyter-widgets/base",
            "_view_module_version": "1.2.0",
            "_view_name": "LayoutView",
            "align_content": null,
            "align_items": null,
            "align_self": null,
            "border": null,
            "bottom": null,
            "display": null,
            "flex": null,
            "flex_flow": null,
            "grid_area": null,
            "grid_auto_columns": null,
            "grid_auto_flow": null,
            "grid_auto_rows": null,
            "grid_column": null,
            "grid_gap": null,
            "grid_row": null,
            "grid_template_areas": null,
            "grid_template_columns": null,
            "grid_template_rows": null,
            "height": null,
            "justify_content": null,
            "justify_items": null,
            "left": null,
            "margin": null,
            "max_height": null,
            "max_width": null,
            "min_height": null,
            "min_width": null,
            "object_fit": null,
            "object_position": null,
            "order": null,
            "overflow": null,
            "overflow_x": null,
            "overflow_y": null,
            "padding": null,
            "right": null,
            "top": null,
            "visibility": null,
            "width": null
          }
        },
        "33a95d57a63d4247820cd47c618dcf53": {
          "model_module": "@jupyter-widgets/controls",
          "model_module_version": "1.5.0",
          "model_name": "HTMLModel",
          "state": {
            "_dom_classes": [],
            "_model_module": "@jupyter-widgets/controls",
            "_model_module_version": "1.5.0",
            "_model_name": "HTMLModel",
            "_view_count": null,
            "_view_module": "@jupyter-widgets/controls",
            "_view_module_version": "1.5.0",
            "_view_name": "HTMLView",
            "description": "",
            "description_tooltip": null,
            "layout": "IPY_MODEL_9282556f69a04c48a40fdf5e8da54e03",
            "placeholder": "​",
            "style": "IPY_MODEL_be5f1d95b7574681bebac43663fd488d",
            "value": "100%"
          }
        },
        "62255feba5aa4dfb8514cc08c011c825": {
          "model_module": "@jupyter-widgets/controls",
          "model_module_version": "1.5.0",
          "model_name": "HBoxModel",
          "state": {
            "_dom_classes": [],
            "_model_module": "@jupyter-widgets/controls",
            "_model_module_version": "1.5.0",
            "_model_name": "HBoxModel",
            "_view_count": null,
            "_view_module": "@jupyter-widgets/controls",
            "_view_module_version": "1.5.0",
            "_view_name": "HBoxView",
            "box_style": "",
            "children": [
              "IPY_MODEL_33a95d57a63d4247820cd47c618dcf53",
              "IPY_MODEL_a93caaff4e424026a607d39b82df3fee",
              "IPY_MODEL_207c6285e3d84a7682db8990cf51ec2a"
            ],
            "layout": "IPY_MODEL_a6a19721b447412e924c09d8a22192af"
          }
        },
        "9282556f69a04c48a40fdf5e8da54e03": {
          "model_module": "@jupyter-widgets/base",
          "model_module_version": "1.2.0",
          "model_name": "LayoutModel",
          "state": {
            "_model_module": "@jupyter-widgets/base",
            "_model_module_version": "1.2.0",
            "_model_name": "LayoutModel",
            "_view_count": null,
            "_view_module": "@jupyter-widgets/base",
            "_view_module_version": "1.2.0",
            "_view_name": "LayoutView",
            "align_content": null,
            "align_items": null,
            "align_self": null,
            "border": null,
            "bottom": null,
            "display": null,
            "flex": null,
            "flex_flow": null,
            "grid_area": null,
            "grid_auto_columns": null,
            "grid_auto_flow": null,
            "grid_auto_rows": null,
            "grid_column": null,
            "grid_gap": null,
            "grid_row": null,
            "grid_template_areas": null,
            "grid_template_columns": null,
            "grid_template_rows": null,
            "height": null,
            "justify_content": null,
            "justify_items": null,
            "left": null,
            "margin": null,
            "max_height": null,
            "max_width": null,
            "min_height": null,
            "min_width": null,
            "object_fit": null,
            "object_position": null,
            "order": null,
            "overflow": null,
            "overflow_x": null,
            "overflow_y": null,
            "padding": null,
            "right": null,
            "top": null,
            "visibility": null,
            "width": null
          }
        },
        "a6a19721b447412e924c09d8a22192af": {
          "model_module": "@jupyter-widgets/base",
          "model_module_version": "1.2.0",
          "model_name": "LayoutModel",
          "state": {
            "_model_module": "@jupyter-widgets/base",
            "_model_module_version": "1.2.0",
            "_model_name": "LayoutModel",
            "_view_count": null,
            "_view_module": "@jupyter-widgets/base",
            "_view_module_version": "1.2.0",
            "_view_name": "LayoutView",
            "align_content": null,
            "align_items": null,
            "align_self": null,
            "border": null,
            "bottom": null,
            "display": null,
            "flex": null,
            "flex_flow": null,
            "grid_area": null,
            "grid_auto_columns": null,
            "grid_auto_flow": null,
            "grid_auto_rows": null,
            "grid_column": null,
            "grid_gap": null,
            "grid_row": null,
            "grid_template_areas": null,
            "grid_template_columns": null,
            "grid_template_rows": null,
            "height": null,
            "justify_content": null,
            "justify_items": null,
            "left": null,
            "margin": null,
            "max_height": null,
            "max_width": null,
            "min_height": null,
            "min_width": null,
            "object_fit": null,
            "object_position": null,
            "order": null,
            "overflow": null,
            "overflow_x": null,
            "overflow_y": null,
            "padding": null,
            "right": null,
            "top": null,
            "visibility": null,
            "width": null
          }
        },
        "a93caaff4e424026a607d39b82df3fee": {
          "model_module": "@jupyter-widgets/controls",
          "model_module_version": "1.5.0",
          "model_name": "FloatProgressModel",
          "state": {
            "_dom_classes": [],
            "_model_module": "@jupyter-widgets/controls",
            "_model_module_version": "1.5.0",
            "_model_name": "FloatProgressModel",
            "_view_count": null,
            "_view_module": "@jupyter-widgets/controls",
            "_view_module_version": "1.5.0",
            "_view_name": "ProgressView",
            "bar_style": "success",
            "description": "",
            "description_tooltip": null,
            "layout": "IPY_MODEL_2e174653b41042308e150b8a50686915",
            "max": 57365526,
            "min": 0,
            "orientation": "horizontal",
            "style": "IPY_MODEL_08518a068226463685efbe3c0ef4a651",
            "value": 57365526
          }
        },
        "be5f1d95b7574681bebac43663fd488d": {
          "model_module": "@jupyter-widgets/controls",
          "model_module_version": "1.5.0",
          "model_name": "DescriptionStyleModel",
          "state": {
            "_model_module": "@jupyter-widgets/controls",
            "_model_module_version": "1.5.0",
            "_model_name": "DescriptionStyleModel",
            "_view_count": null,
            "_view_module": "@jupyter-widgets/base",
            "_view_module_version": "1.2.0",
            "_view_name": "StyleView",
            "description_width": ""
          }
        },
        "c9323cc643cd4adb839fcb1185828200": {
          "model_module": "@jupyter-widgets/base",
          "model_module_version": "1.2.0",
          "model_name": "LayoutModel",
          "state": {
            "_model_module": "@jupyter-widgets/base",
            "_model_module_version": "1.2.0",
            "_model_name": "LayoutModel",
            "_view_count": null,
            "_view_module": "@jupyter-widgets/base",
            "_view_module_version": "1.2.0",
            "_view_name": "LayoutView",
            "align_content": null,
            "align_items": null,
            "align_self": null,
            "border": null,
            "bottom": null,
            "display": null,
            "flex": null,
            "flex_flow": null,
            "grid_area": null,
            "grid_auto_columns": null,
            "grid_auto_flow": null,
            "grid_auto_rows": null,
            "grid_column": null,
            "grid_gap": null,
            "grid_row": null,
            "grid_template_areas": null,
            "grid_template_columns": null,
            "grid_template_rows": null,
            "height": null,
            "justify_content": null,
            "justify_items": null,
            "left": null,
            "margin": null,
            "max_height": null,
            "max_width": null,
            "min_height": null,
            "min_width": null,
            "object_fit": null,
            "object_position": null,
            "order": null,
            "overflow": null,
            "overflow_x": null,
            "overflow_y": null,
            "padding": null,
            "right": null,
            "top": null,
            "visibility": null,
            "width": null
          }
        },
        "eb8bc1e7437f4ec0b0d8d50216b2e314": {
          "model_module": "@jupyter-widgets/controls",
          "model_module_version": "1.5.0",
          "model_name": "DescriptionStyleModel",
          "state": {
            "_model_module": "@jupyter-widgets/controls",
            "_model_module_version": "1.5.0",
            "_model_name": "DescriptionStyleModel",
            "_view_count": null,
            "_view_module": "@jupyter-widgets/base",
            "_view_module_version": "1.2.0",
            "_view_name": "StyleView",
            "description_width": ""
          }
        }
      }
    }
  },
  "nbformat": 4,
  "nbformat_minor": 0
}
